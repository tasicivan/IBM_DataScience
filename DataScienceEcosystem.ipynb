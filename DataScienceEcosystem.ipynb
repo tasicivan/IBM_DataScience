{
 "cells": [
  {
   "cell_type": "markdown",
   "id": "c4d05aea-0b19-4b8b-b238-e3ffdcd36f57",
   "metadata": {},
   "source": [
    "# Data Science Tools and Ecosystem"
   ]
  },
  {
   "cell_type": "markdown",
   "id": "cac3cb6f-68fa-4e17-aeb1-cadb2ef1a261",
   "metadata": {},
   "source": [
    "In this notebook, Data Science Tools and Ecosystem are summarized."
   ]
  },
  {
   "cell_type": "markdown",
   "id": "7150b61b-1013-4d13-a645-c68289f2714d",
   "metadata": {},
   "source": [
    "**Objectives:**\n",
    "- List popular Data Science languages\n",
    "- List popular Data Science libraries\n",
    "- List popular Data Science tools"
   ]
  },
  {
   "cell_type": "markdown",
   "id": "8e1bdd84-6107-4b1c-9a95-4aa04631de4c",
   "metadata": {},
   "source": [
    "Some of the popular languages that Data Scientists use are:\n",
    "1. Python\n",
    "2. R\n",
    "3. SQL\n",
    "4. Scala\n",
    "5. JavaC++\n",
    "6. Julia"
   ]
  },
  {
   "cell_type": "markdown",
   "id": "ce6c1f8f-f3da-4359-9cb6-f35f18c03b36",
   "metadata": {},
   "source": [
    "Some of the commonly used libraries used by Data Scientists include:\n",
    "1. Pandas\n",
    "2. NumPy\n",
    "3. SciPy\n",
    "4. Matplotlib\n",
    "5. Dplyr\n",
    "6. tidyr\n",
    "7. stringr\n",
    "8. ggplot\n",
    "9. caretotly"
   ]
  },
  {
   "cell_type": "markdown",
   "id": "7c9966e3-8eb0-43a6-a255-ab1ba67d92a0",
   "metadata": {},
   "source": [
    "| Data Science Tools |\n",
    "| ------------------ |\n",
    "| RStudio |\n",
    "| Apache Spark |\n",
    "| TensorFlow |\n",
    "| Apache Hadoop |\n",
    "| RapidMiner |\n",
    "| Jupyter Notebooks |\n",
    "| JupyterLab |\n",
    "| Git |\n",
    "| GitHub |"
   ]
  },
  {
   "cell_type": "markdown",
   "id": "aa5702aa-a11f-4660-9c2a-631de31c23b4",
   "metadata": {},
   "source": [
    "### Below are a few examples of evaluating arithmentic expressions in Python."
   ]
  },
  {
   "cell_type": "code",
   "execution_count": 1,
   "id": "30229639-f92f-4958-b01b-716448b0dfa5",
   "metadata": {},
   "outputs": [
    {
     "data": {
      "text/plain": [
       "17"
      ]
     },
     "execution_count": 1,
     "metadata": {},
     "output_type": "execute_result"
    }
   ],
   "source": [
    "# This is a simple arithmentic expression to multiply then add integers.\n",
    "(3*4)+5"
   ]
  },
  {
   "cell_type": "code",
   "execution_count": 2,
   "id": "b781d2f2-3d54-4b60-99bb-60cbe1a30b56",
   "metadata": {},
   "outputs": [
    {
     "data": {
      "text/plain": [
       "3.3333333333333335"
      ]
     },
     "execution_count": 2,
     "metadata": {},
     "output_type": "execute_result"
    }
   ],
   "source": [
    "# This will convert 200 minutes to hours by dividing by 60.\n",
    "200/60"
   ]
  },
  {
   "cell_type": "markdown",
   "id": "64f1e63b-2c81-412d-8531-85ed54e8dd2c",
   "metadata": {},
   "source": [
    "## Author\n",
    "Ivan Tasic"
   ]
  }
 ],
 "metadata": {
  "kernelspec": {
   "display_name": "Python 3 (ipykernel)",
   "language": "python",
   "name": "python3"
  },
  "language_info": {
   "codemirror_mode": {
    "name": "ipython",
    "version": 3
   },
   "file_extension": ".py",
   "mimetype": "text/x-python",
   "name": "python",
   "nbconvert_exporter": "python",
   "pygments_lexer": "ipython3",
   "version": "3.12.3"
  }
 },
 "nbformat": 4,
 "nbformat_minor": 5
}
